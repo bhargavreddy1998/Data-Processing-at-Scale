{
 "cells": [
  {
   "cell_type": "code",
   "execution_count": 5,
   "id": "f0cf32bf-7371-4a50-84ee-446078e6a995",
   "metadata": {},
   "outputs": [],
   "source": [
    "# Import necessary libraries\n",
    "from pyspark.sql import SparkSession\n",
    "\n",
    "# Create a Spark session\n",
    "spark = SparkSession.builder \\\n",
    "    .appName(\"YelpUserAnalysis\") \\\n",
    "    .getOrCreate()"
   ]
  },
  {
   "cell_type": "code",
   "execution_count": 6,
   "id": "9809647b-68e0-4d5c-891e-9b26301b40b0",
   "metadata": {},
   "outputs": [
    {
     "name": "stderr",
     "output_type": "stream",
     "text": [
      "                                                                                \r"
     ]
    }
   ],
   "source": [
    "reviews_df = spark.read.json(\"file:///home/dps/Documents/yelp_dataset/yelp_academic_dataset_review.json\")"
   ]
  },
  {
   "cell_type": "code",
   "execution_count": 7,
   "id": "f2f154b3-ffef-4f7c-a005-831441a29856",
   "metadata": {},
   "outputs": [
    {
     "name": "stderr",
     "output_type": "stream",
     "text": [
      "                                                                                \r"
     ]
    }
   ],
   "source": [
    "users_df = spark.read.json(\"file:///home/dps/Documents/yelp_dataset/yelp_academic_dataset_user.json\")"
   ]
  },
  {
   "cell_type": "code",
   "execution_count": 8,
   "id": "671e5f1d-caaf-4e50-a158-c508fbf2a84f",
   "metadata": {},
   "outputs": [
    {
     "name": "stderr",
     "output_type": "stream",
     "text": [
      "24/09/18 04:41:25 WARN package: Truncated the string representation of a plan since it was too large. This behavior can be adjusted by setting 'spark.sql.debug.maxToStringFields'.\n"
     ]
    }
   ],
   "source": [
    "arizona_businesses_df = spark.read.parquet(\"file:///home/dps/Documents/temp/arizona_businesses.parquet\")"
   ]
  },
  {
   "cell_type": "code",
   "execution_count": 9,
   "id": "87286e76-0a70-4fd6-b305-1d21100e7851",
   "metadata": {},
   "outputs": [
    {
     "name": "stderr",
     "output_type": "stream",
     "text": [
      "                                                                                \r"
     ]
    },
    {
     "name": "stdout",
     "output_type": "stream",
     "text": [
      "+--------------------+----+-------------------+-----+--------------------+-----+--------------------+------+--------------------+--------------------+--------------------+--------------------+--------------------+------+--------------------+-------+----------+---------------+--------------------+-----------+------------+-----+-----+\n",
      "|         business_id|cool|               date|funny|           review_id|stars|                text|useful|             user_id|             address|          attributes|         business_id|          categories|  city|               hours|is_open|  latitude|      longitude|                name|postal_code|review_count|stars|state|\n",
      "+--------------------+----+-------------------+-----+--------------------+-----+--------------------+------+--------------------+--------------------+--------------------+--------------------+--------------------+------+--------------------+-------+----------+---------------+--------------------+-----------+------------+-----+-----+\n",
      "|YjUWPpI6HXG530lwP...|   0|2014-02-05 20:30:30|    0|saUsX_uimxRlCVr67...|  3.0|Family diner. Had...|     0|8g_iMtfSiwikVnbP2...|748 W Starr Pass ...|{null, null, u'no...|YjUWPpI6HXG530lwP...|Restaurants, Brea...|Tucson|                null|      1|32.2072326|   -110.9808639|   Kettle Restaurant|      85713|          47|  3.5|   AZ|\n",
      "|otQS34_MymijPTdNB...|   0|2011-10-27 17:12:05|    2|UBp0zWyH60Hmw6Fsa...|  4.0|The bun makes the...|     0|4Uh27DgGzsp6PqrH9...|      2680 N 1st Ave|{null, null, 'ful...|otQS34_MymijPTdNB...|Restaurants, Taco...|Tucson|{10:0-15:0, 0:0-0...|      1|32.2558336|   -110.9605596|            BK Tacos|      85719|         492|  4.0|   AZ|\n",
      "|5Ce3lZksYVkCbrihq...|   0|2014-07-25 17:56:26|    0|ymhbOMW63B_vGaRFR...|  5.0|I just started go...|     0|yZdAhQ_KmKuCZmbBy...|    64 N Harrison Rd|{null, null, u'fu...|5Ce3lZksYVkCbrihq...|Sushi Bars, Japan...|Tucson|{16:30-20:0, 16:3...|      1| 32.222552|    -110.788132|          Sushi Nara|      85748|         159|  4.5|   AZ|\n",
      "|W7NxQw8UYFR0HLPrI...|   0|2012-02-01 14:21:25|    0|onlgwy5qGDEzddsrn...|  4.0|Don't know what i...|     0|pYXeL0RCqus2Ifhth...|     4774 E Grant Rd|{null, null, 'bee...|W7NxQw8UYFR0HLPrI...|Restaurants, Fast...|Tucson|{10:45-22:0, 0:0-...|      1| 32.250019|-110.8909246575|Chipotle Mexican ...|      85712|          76|  3.0|   AZ|\n",
      "|7L1kXfwU5XM6f6Jxo...|   0|2015-07-03 22:36:04|    0|ypFqmURIY41F4pWaM...|  5.0|We've been coming...|     1|hToW2eoTAYlOcuNz7...| 3001 N Campbell Ave|{null, null, 'ful...|7L1kXfwU5XM6f6Jxo...|Latin American, M...|Tucson|{11:0-21:0, 11:0-...|      1|32.2614029|   -110.9440973|Casa Molina Del N...|      85719|         116|  3.0|   AZ|\n",
      "+--------------------+----+-------------------+-----+--------------------+-----+--------------------+------+--------------------+--------------------+--------------------+--------------------+--------------------+------+--------------------+-------+----------+---------------+--------------------+-----------+------------+-----+-----+\n",
      "only showing top 5 rows\n",
      "\n"
     ]
    }
   ],
   "source": [
    "# Filter for businesses in the chosen category (e.g., Restaurants)\n",
    "category_reviews_df = reviews_df.join(arizona_businesses_df, reviews_df.business_id == arizona_businesses_df.business_id) \\\n",
    "                                .filter(arizona_businesses_df[\"categories\"].contains(\"Restaurants\"))\n",
    "\n",
    "category_reviews_df.show(5)\n"
   ]
  },
  {
   "cell_type": "code",
   "execution_count": 10,
   "id": "f27b2fb1-b764-495a-99b9-252b78ea8e63",
   "metadata": {},
   "outputs": [
    {
     "name": "stderr",
     "output_type": "stream",
     "text": [
      "                                                                                \r"
     ]
    },
    {
     "name": "stdout",
     "output_type": "stream",
     "text": [
      "+--------------------+----+-------------------+-----+--------------------+-----+--------------------+------+--------------------+--------------------+--------------------+--------------------+--------------------+------+--------------------+-------+------------+---------------+--------------------+-----------+------------+-----+-----+-------------+---------------+---------------+----------------+--------------+---------------+---------------+---------------+-----------------+----------------+------------------+-----------------+----+--------------------+----+--------------------+-----+-----+------------+------+--------------------+-------------------+\n",
      "|         business_id|cool|               date|funny|           review_id|stars|                text|useful|             user_id|             address|          attributes|         business_id|          categories|  city|               hours|is_open|    latitude|      longitude|                name|postal_code|review_count|stars|state|average_stars|compliment_cool|compliment_cute|compliment_funny|compliment_hot|compliment_list|compliment_more|compliment_note|compliment_photos|compliment_plain|compliment_profile|compliment_writer|cool|               elite|fans|             friends|funny| name|review_count|useful|             user_id|      yelping_since|\n",
      "+--------------------+----+-------------------+-----+--------------------+-----+--------------------+------+--------------------+--------------------+--------------------+--------------------+--------------------+------+--------------------+-------+------------+---------------+--------------------+-----------+------------+-----+-----+-------------+---------------+---------------+----------------+--------------+---------------+---------------+---------------+-----------------+----------------+------------------+-----------------+----+--------------------+----+--------------------+-----+-----+------------+------+--------------------+-------------------+\n",
      "|9zlIJ7Q5W4AENjpGg...|   4|2017-03-10 04:34:40|    3|9xrFpT1GOkQSg8pPK...|  4.0|My colleagues hav...|     6|-3i9bhfvrM3F1wsC9...|2707 E Broadway Blvd|{null, null, 'bee...|9zlIJ7Q5W4AENjpGg...|Chicken Wings, Re...|Tucson|{11:0-22:0, 11:0-...|      1|  32.2218605|   -110.9320475|Rocco's Little Ch...|      85716|         613|  4.0|   AZ|         4.14|            840|             93|             840|           602|             15|             38|            132|               33|             622|                36|              238|3314|2007,2008,2009,20...| 109|QA4v0Is4Gs5KB-F3i...| 2456|Linda|         747|  3938|-3i9bhfvrM3F1wsC9...|2005-08-07 03:08:12|\n",
      "|MfkMUNwur9huBERrx...|   4|2017-03-10 03:52:21|    3|my2SfG8mWAbpAR-t-...|  5.0|I asked my collea...|     7|-3i9bhfvrM3F1wsC9...|2731 E Broadway Blvd|{null, null, u'no...|MfkMUNwur9huBERrx...|Restaurants, Ethi...|Tucson|{11:0-19:0, null,...|      1|   32.221805|    -110.931167|             Zemam's|      85716|         336|  4.5|   AZ|         4.14|            840|             93|             840|           602|             15|             38|            132|               33|             622|                36|              238|3314|2007,2008,2009,20...| 109|QA4v0Is4Gs5KB-F3i...| 2456|Linda|         747|  3938|-3i9bhfvrM3F1wsC9...|2005-08-07 03:08:12|\n",
      "|iOFbMitGdfU6i5xm4...|   2|2014-01-10 03:16:55|    1|QJEO92Cmy9ayvGJlz...|  1.0|Honestly, we were...|     9|-3s52C4zL_DHRK0UL...| 2616 N Campbell Ave|{null, null, u'fu...|iOFbMitGdfU6i5xm4...|Cards & Stationer...|Tucson|{8:0-20:0, 8:0-15...|      1|  32.2544129|   -110.9435152|Blue Willow Resta...|      85719|         625|  4.0|   AZ|         3.46|             20|              2|              20|            11|              0|              7|             20|                2|              47|                 1|               12| 368|2010,2011,2012,20...|  55|ZEKGSV1fxWGL5fH4z...|  476| Sara|        1760|  1663|-3s52C4zL_DHRK0UL...|2010-05-16 16:21:33|\n",
      "|TqCKiDAs6r4GSo41Q...|   1|2014-01-10 03:24:47|    1|DCR3dTR2rq53OqqR9...|  5.0|After an all day ...|     1|-3s52C4zL_DHRK0UL...|       621 N 4th Ave|{null, null, 'bee...|TqCKiDAs6r4GSo41Q...|Breakfast & Brunc...|Tucson|{8:0-22:0, 8:0-21...|      0|  32.2294246|-110.9657512411|          The B-Line|      85705|         430|  4.0|   AZ|         3.46|             20|              2|              20|            11|              0|              7|             20|                2|              47|                 1|               12| 368|2010,2011,2012,20...|  55|ZEKGSV1fxWGL5fH4z...|  476| Sara|        1760|  1663|-3s52C4zL_DHRK0UL...|2010-05-16 16:21:33|\n",
      "|7WrnAUGyB_uyWBSk5...|   0|2014-01-10 03:23:42|    0|bugy_4oSthKnIm4q2...|  3.0|A great little pl...|     0|-3s52C4zL_DHRK0UL...|   10785 N Oracle Rd|{null, null, null...|7WrnAUGyB_uyWBSk5...|Restaurants, Coff...|Tucson|                null|      0|32.401923277|-110.9558681526|           Starbucks|      85737|          24|  3.5|   AZ|         3.46|             20|              2|              20|            11|              0|              7|             20|                2|              47|                 1|               12| 368|2010,2011,2012,20...|  55|ZEKGSV1fxWGL5fH4z...|  476| Sara|        1760|  1663|-3s52C4zL_DHRK0UL...|2010-05-16 16:21:33|\n",
      "+--------------------+----+-------------------+-----+--------------------+-----+--------------------+------+--------------------+--------------------+--------------------+--------------------+--------------------+------+--------------------+-------+------------+---------------+--------------------+-----------+------------+-----+-----+-------------+---------------+---------------+----------------+--------------+---------------+---------------+---------------+-----------------+----------------+------------------+-----------------+----+--------------------+----+--------------------+-----+-----+------------+------+--------------------+-------------------+\n",
      "only showing top 5 rows\n",
      "\n"
     ]
    }
   ],
   "source": [
    "# Join reviews with user data\n",
    "user_reviews_df = category_reviews_df.join(users_df, category_reviews_df.user_id == users_df.user_id)\n",
    "\n",
    "# Display the first few rows\n",
    "user_reviews_df.show(5)\n"
   ]
  },
  {
   "cell_type": "code",
   "execution_count": 11,
   "id": "7f0722a6-dc2d-4a70-bf0d-fe3b6e4714a9",
   "metadata": {},
   "outputs": [
    {
     "name": "stderr",
     "output_type": "stream",
     "text": [
      "[Stage 14:=====================================================>  (25 + 1) / 26]\r"
     ]
    },
    {
     "name": "stdout",
     "output_type": "stream",
     "text": [
      "+--------------------+----+--------------------+--------------------+------------+\n",
      "|             user_id|name|                text|         business_id|review_count|\n",
      "+--------------------+----+--------------------+--------------------+------------+\n",
      "|--6lqYpHZCBbpW5z2...|Jeff|Honestly was only...|mUI4DJagyUyu76qnR...|           9|\n",
      "|--Kwhcbkh7jxkhVVQ...|Larz|The place is abso...|ORL4JE6tz3rJxVqkd...|          58|\n",
      "|--Kwhcbkh7jxkhVVQ...|Larz|Ate dinner there ...|tIvfmgT1qMeAEQf8C...|          58|\n",
      "|--Kwhcbkh7jxkhVVQ...|Larz|It was okay. If y...|Ld805G25xHALqbBo1...|          58|\n",
      "|--Kwhcbkh7jxkhVVQ...|Larz|Went for a nice l...|arQfMJal1tl67Z96R...|          58|\n",
      "+--------------------+----+--------------------+--------------------+------------+\n",
      "only showing top 5 rows\n",
      "\n"
     ]
    },
    {
     "name": "stderr",
     "output_type": "stream",
     "text": [
      "                                                                                \r"
     ]
    }
   ],
   "source": [
    "# Alias the DataFrames to avoid ambiguity\n",
    "reviews_df = reviews_df.alias(\"reviews\")\n",
    "users_df = users_df.alias(\"users\")\n",
    "\n",
    "# Join reviews with user data, specifying the columns explicitly to avoid ambiguity\n",
    "user_reviews_df = reviews_df.join(users_df, reviews_df[\"user_id\"] == users_df[\"user_id\"], \"inner\") \\\n",
    "    .select(reviews_df[\"user_id\"], users_df[\"name\"], reviews_df[\"text\"], reviews_df[\"business_id\"], users_df[\"review_count\"])\n",
    "\n",
    "# Show the first few rows to verify\n",
    "user_reviews_df.show(5)"
   ]
  },
  {
   "cell_type": "code",
   "execution_count": 12,
   "id": "6ffe06c5-317c-4abc-acc6-c0e7a2fa4a73",
   "metadata": {},
   "outputs": [
    {
     "name": "stderr",
     "output_type": "stream",
     "text": [
      "24/09/18 04:43:16 WARN RowBasedKeyValueBatch: Calling spill() on RowBasedKeyValueBatch. Will not spill but return 0.\n",
      "24/09/18 04:43:16 WARN RowBasedKeyValueBatch: Calling spill() on RowBasedKeyValueBatch. Will not spill but return 0.\n",
      "24/09/18 04:43:16 WARN RowBasedKeyValueBatch: Calling spill() on RowBasedKeyValueBatch. Will not spill but return 0.\n",
      "24/09/18 04:43:16 WARN RowBasedKeyValueBatch: Calling spill() on RowBasedKeyValueBatch. Will not spill but return 0.\n",
      "24/09/18 04:43:23 WARN RowBasedKeyValueBatch: Calling spill() on RowBasedKeyValueBatch. Will not spill but return 0.\n",
      "[Stage 22:===========>                                              (1 + 4) / 5]\r"
     ]
    },
    {
     "name": "stdout",
     "output_type": "stream",
     "text": [
      "+--------------------+--------+------------+\n",
      "|             user_id|    name|review_count|\n",
      "+--------------------+--------+------------+\n",
      "|_BcWyKQL16ndpBdgg...|   Karen|        3048|\n",
      "|Xw7ZjaGfr0WNVt6s_...|Marielle|        1840|\n",
      "|0Igx-a1wAstiBDerG...|     Jen|        1747|\n",
      "|-G7Zkl1wIWBBmD0KR...|  Gerald|        1682|\n",
      "|ET8n-r7glWYqZhuR6...|Michelle|        1653|\n",
      "|bYENop4BuQepBjM1-...|  Steven|        1578|\n",
      "|1HM81n6n4iPIFU5d2...| Shannon|        1554|\n",
      "|fr1Hz2acAb3OaL3l6...|    Boon|        1447|\n",
      "|wXdbkFZsfDR7utJvb...|     Ken|        1396|\n",
      "|Um5bfs5DH6eizgjH3...|  Dianna|        1391|\n",
      "+--------------------+--------+------------+\n",
      "only showing top 10 rows\n",
      "\n"
     ]
    },
    {
     "name": "stderr",
     "output_type": "stream",
     "text": [
      "                                                                                \r"
     ]
    }
   ],
   "source": [
    "top_users_df = user_reviews_df.groupBy(\"user_id\", \"name\") \\\n",
    "                              .count() \\\n",
    "                              .withColumnRenamed(\"count\", \"review_count\") \\\n",
    "                              .orderBy(\"review_count\", ascending=False)\n",
    "\n",
    "top_users_df.show(10)"
   ]
  },
  {
   "cell_type": "code",
   "execution_count": 13,
   "id": "b2fa063f-4f02-4f53-a4e1-e7de9f116c9b",
   "metadata": {},
   "outputs": [
    {
     "name": "stderr",
     "output_type": "stream",
     "text": [
      "24/09/18 04:43:59 WARN RowBasedKeyValueBatch: Calling spill() on RowBasedKeyValueBatch. Will not spill but return 0.\n",
      "24/09/18 04:43:59 WARN RowBasedKeyValueBatch: Calling spill() on RowBasedKeyValueBatch. Will not spill but return 0.\n",
      "24/09/18 04:44:00 WARN RowBasedKeyValueBatch: Calling spill() on RowBasedKeyValueBatch. Will not spill but return 0.\n",
      "24/09/18 04:44:00 WARN RowBasedKeyValueBatch: Calling spill() on RowBasedKeyValueBatch. Will not spill but return 0.\n",
      "24/09/18 04:44:03 WARN RowBasedKeyValueBatch: Calling spill() on RowBasedKeyValueBatch. Will not spill but return 0.\n",
      "                                                                                \r"
     ]
    },
    {
     "data": {
      "image/png": "[encoded data removed]",
      "text/plain": [
       "<Figure size 640x480 with 1 Axes>"
      ]
     },
     "metadata": {},
     "output_type": "display_data"
    }
   ],
   "source": [
    "import matplotlib.pyplot as plt\n",
    "import pandas as pd\n",
    "\n",
    "# Convert Spark DataFrame to Pandas DataFrame for visualization\n",
    "top_users_pandas = top_users_df.limit(10).toPandas()\n",
    "\n",
    "# Plot the top 10 users by review count\n",
    "top_users_pandas.plot(kind='bar', x='name', y='review_count', legend=False)\n",
    "plt.title(\"Top 10 Active Users by Review Count\")\n",
    "plt.xlabel(\"User\")\n",
    "plt.ylabel(\"Review Count\")\n",
    "plt.show()"
   ]
  },
  {
   "cell_type": "code",
   "execution_count": 15,
   "id": "04ad0e47-0210-4407-848f-9c9ec190821b",
   "metadata": {},
   "outputs": [
    {
     "name": "stderr",
     "output_type": "stream",
     "text": [
      "[nltk_data] Downloading package vader_lexicon to\n",
      "[nltk_data]     /home/dps/nltk_data...\n",
      "[Stage 32:>                                                         (0 + 1) / 1]\r"
     ]
    },
    {
     "name": "stdout",
     "output_type": "stream",
     "text": [
      "+--------------------+----+--------------------+--------------------+------------+---------------+\n",
      "|             user_id|name|                text|         business_id|review_count|sentiment_score|\n",
      "+--------------------+----+--------------------+--------------------+------------+---------------+\n",
      "|--6lqYpHZCBbpW5z2...|Jeff|Honestly was only...|mUI4DJagyUyu76qnR...|           9|         0.5624|\n",
      "|--Kwhcbkh7jxkhVVQ...|Larz|The place is abso...|ORL4JE6tz3rJxVqkd...|          58|         0.8207|\n",
      "|--Kwhcbkh7jxkhVVQ...|Larz|Ate dinner there ...|tIvfmgT1qMeAEQf8C...|          58|         0.9452|\n",
      "|--Kwhcbkh7jxkhVVQ...|Larz|It was okay. If y...|Ld805G25xHALqbBo1...|          58|         0.9134|\n",
      "|--Kwhcbkh7jxkhVVQ...|Larz|Went for a nice l...|arQfMJal1tl67Z96R...|          58|          0.902|\n",
      "+--------------------+----+--------------------+--------------------+------------+---------------+\n",
      "only showing top 5 rows\n",
      "\n"
     ]
    },
    {
     "name": "stderr",
     "output_type": "stream",
     "text": [
      "                                                                                \r"
     ]
    }
   ],
   "source": [
    "import nltk\n",
    "from nltk.sentiment.vader import SentimentIntensityAnalyzer\n",
    "from pyspark.sql.functions import udf\n",
    "from pyspark.sql.types import DoubleType\n",
    "\n",
    "# Initialize VADER sentiment analyzer\n",
    "nltk.download('vader_lexicon')\n",
    "sid = SentimentIntensityAnalyzer()\n",
    "\n",
    "# Define a function to get sentiment score from review text\n",
    "def get_sentiment(text):\n",
    "    sentiment = sid.polarity_scores(text)\n",
    "    return sentiment['compound']\n",
    "\n",
    "# Create a UDF (User Defined Function) for sentiment analysis\n",
    "sentiment_udf = udf(get_sentiment, DoubleType())\n",
    "\n",
    "# Add a sentiment score column to the user reviews DataFrame\n",
    "user_reviews_with_sentiment_df = user_reviews_df.withColumn(\"sentiment_score\", sentiment_udf(user_reviews_df[\"text\"]))\n",
    "\n",
    "# Show the first few rows with sentiment scores\n",
    "user_reviews_with_sentiment_df.show(5)\n"
   ]
  },
  {
   "cell_type": "code",
   "execution_count": 16,
   "id": "6dc6286a-90c1-4827-a8f3-cac619cf0651",
   "metadata": {},
   "outputs": [
    {
     "name": "stderr",
     "output_type": "stream",
     "text": [
      "24/09/18 04:46:11 WARN RowBasedKeyValueBatch: Calling spill() on RowBasedKeyValueBatch. Will not spill but return 0.\n",
      "24/09/18 04:46:11 WARN RowBasedKeyValueBatch: Calling spill() on RowBasedKeyValueBatch. Will not spill but return 0.\n",
      "24/09/18 04:46:11 WARN RowBasedKeyValueBatch: Calling spill() on RowBasedKeyValueBatch. Will not spill but return 0.\n",
      "24/09/18 04:46:11 WARN RowBasedKeyValueBatch: Calling spill() on RowBasedKeyValueBatch. Will not spill but return 0.\n",
      "24/09/18 04:50:02 WARN RowBasedKeyValueBatch: Calling spill() on RowBasedKeyValueBatch. Will not spill but return 0.\n",
      "24/09/18 04:50:04 WARN RowBasedKeyValueBatch: Calling spill() on RowBasedKeyValueBatch. Will not spill but return 0.\n",
      "24/09/18 04:50:06 WARN RowBasedKeyValueBatch: Calling spill() on RowBasedKeyValueBatch. Will not spill but return 0.\n",
      "24/09/18 04:50:10 WARN RowBasedKeyValueBatch: Calling spill() on RowBasedKeyValueBatch. Will not spill but return 0.\n",
      "24/09/18 04:54:05 WARN RowBasedKeyValueBatch: Calling spill() on RowBasedKeyValueBatch. Will not spill but return 0.\n",
      "24/09/18 04:54:13 WARN RowBasedKeyValueBatch: Calling spill() on RowBasedKeyValueBatch. Will not spill but return 0.\n",
      "24/09/18 04:54:17 WARN RowBasedKeyValueBatch: Calling spill() on RowBasedKeyValueBatch. Will not spill but return 0.\n",
      "24/09/18 04:55:04 WARN RowBasedKeyValueBatch: Calling spill() on RowBasedKeyValueBatch. Will not spill but return 0.\n",
      "24/09/18 04:57:43 WARN RowBasedKeyValueBatch: Calling spill() on RowBasedKeyValueBatch. Will not spill but return 0.\n",
      "24/09/18 04:58:40 WARN RowBasedKeyValueBatch: Calling spill() on RowBasedKeyValueBatch. Will not spill but return 0.\n",
      "24/09/18 04:58:44 WARN RowBasedKeyValueBatch: Calling spill() on RowBasedKeyValueBatch. Will not spill but return 0.\n",
      "24/09/18 04:58:44 WARN RowBasedKeyValueBatch: Calling spill() on RowBasedKeyValueBatch. Will not spill but return 0.\n",
      "24/09/18 05:02:09 WARN RowBasedKeyValueBatch: Calling spill() on RowBasedKeyValueBatch. Will not spill but return 0.\n",
      "24/09/18 05:02:35 WARN RowBasedKeyValueBatch: Calling spill() on RowBasedKeyValueBatch. Will not spill but return 0.\n",
      "24/09/18 05:02:36 WARN RowBasedKeyValueBatch: Calling spill() on RowBasedKeyValueBatch. Will not spill but return 0.\n",
      "24/09/18 05:02:42 WARN RowBasedKeyValueBatch: Calling spill() on RowBasedKeyValueBatch. Will not spill but return 0.\n",
      "24/09/18 05:04:43 WARN RowBasedKeyValueBatch: Calling spill() on RowBasedKeyValueBatch. Will not spill but return 0.\n",
      "24/09/18 05:05:11 WARN RowBasedKeyValueBatch: Calling spill() on RowBasedKeyValueBatch. Will not spill but return 0.\n",
      "24/09/18 05:05:17 WARN RowBasedKeyValueBatch: Calling spill() on RowBasedKeyValueBatch. Will not spill but return 0.\n",
      "24/09/18 05:05:17 WARN RowBasedKeyValueBatch: Calling spill() on RowBasedKeyValueBatch. Will not spill but return 0.\n",
      "24/09/18 05:07:25 WARN RowBasedKeyValueBatch: Calling spill() on RowBasedKeyValueBatch. Will not spill but return 0.\n",
      "24/09/18 05:07:47 WARN RowBasedKeyValueBatch: Calling spill() on RowBasedKeyValueBatch. Will not spill but return 0.\n",
      "24/09/18 05:07:51 WARN RowBasedKeyValueBatch: Calling spill() on RowBasedKeyValueBatch. Will not spill but return 0.\n",
      "24/09/18 05:07:54 WARN RowBasedKeyValueBatch: Calling spill() on RowBasedKeyValueBatch. Will not spill but return 0.\n",
      "24/09/18 05:09:53 WARN RowBasedKeyValueBatch: Calling spill() on RowBasedKeyValueBatch. Will not spill but return 0.\n",
      "24/09/18 05:10:05 WARN RowBasedKeyValueBatch: Calling spill() on RowBasedKeyValueBatch. Will not spill but return 0.\n",
      "24/09/18 05:10:15 WARN RowBasedKeyValueBatch: Calling spill() on RowBasedKeyValueBatch. Will not spill but return 0.\n",
      "24/09/18 05:10:24 WARN RowBasedKeyValueBatch: Calling spill() on RowBasedKeyValueBatch. Will not spill but return 0.\n",
      "24/09/18 05:14:06 WARN RowBasedKeyValueBatch: Calling spill() on RowBasedKeyValueBatch. Will not spill but return 0.\n",
      "24/09/18 05:14:28 WARN RowBasedKeyValueBatch: Calling spill() on RowBasedKeyValueBatch. Will not spill but return 0.\n",
      "24/09/18 05:14:36 WARN RowBasedKeyValueBatch: Calling spill() on RowBasedKeyValueBatch. Will not spill but return 0.\n",
      "24/09/18 05:14:53 WARN RowBasedKeyValueBatch: Calling spill() on RowBasedKeyValueBatch. Will not spill but return 0.\n",
      "24/09/18 05:19:56 WARN RowBasedKeyValueBatch: Calling spill() on RowBasedKeyValueBatch. Will not spill but return 0.\n",
      "24/09/18 05:20:49 WARN RowBasedKeyValueBatch: Calling spill() on RowBasedKeyValueBatch. Will not spill but return 0.\n",
      "24/09/18 05:21:14 WARN RowBasedKeyValueBatch: Calling spill() on RowBasedKeyValueBatch. Will not spill but return 0.\n",
      "24/09/18 05:21:24 WARN RowBasedKeyValueBatch: Calling spill() on RowBasedKeyValueBatch. Will not spill but return 0.\n",
      "24/09/18 05:25:05 WARN RowBasedKeyValueBatch: Calling spill() on RowBasedKeyValueBatch. Will not spill but return 0.\n",
      "ERROR:root:KeyboardInterrupt while sending command.               (37 + 4) / 51]\n",
      "Traceback (most recent call last):\n",
      "  File \"/home/dps/.local/lib/python3.10/site-packages/py4j/java_gateway.py\", line 1038, in send_command\n",
      "    response = connection.send_command(command)\n",
      "  File \"/home/dps/.local/lib/python3.10/site-packages/py4j/clientserver.py\", line 511, in send_command\n",
      "    answer = smart_decode(self.stream.readline()[:-1])\n",
      "  File \"/usr/lib/python3.10/socket.py\", line 705, in readinto\n",
      "    return self._sock.recv_into(b)\n",
      "KeyboardInterrupt\n"
     ]
    },
    {
     "ename": "KeyboardInterrupt",
     "evalue": "",
     "output_type": "error",
     "traceback": [
      "\u001b[0;31m---------------------------------------------------------------------------\u001b[0m",
      "\u001b[0;31mKeyboardInterrupt\u001b[0m                         Traceback (most recent call last)",
      "Cell \u001b[0;32mIn[16], line 8\u001b[0m\n\u001b[1;32m      2\u001b[0m sentiment_by_review_count_df \u001b[38;5;241m=\u001b[39m user_reviews_with_sentiment_df\u001b[38;5;241m.\u001b[39mgroupBy(\u001b[38;5;124m\"\u001b[39m\u001b[38;5;124muser_id\u001b[39m\u001b[38;5;124m\"\u001b[39m, \u001b[38;5;124m\"\u001b[39m\u001b[38;5;124mname\u001b[39m\u001b[38;5;124m\"\u001b[39m, \u001b[38;5;124m\"\u001b[39m\u001b[38;5;124mreview_count\u001b[39m\u001b[38;5;124m\"\u001b[39m) \\\n\u001b[1;32m      3\u001b[0m                                                             \u001b[38;5;241m.\u001b[39magg({\u001b[38;5;124m\"\u001b[39m\u001b[38;5;124msentiment_score\u001b[39m\u001b[38;5;124m\"\u001b[39m: \u001b[38;5;124m\"\u001b[39m\u001b[38;5;124mavg\u001b[39m\u001b[38;5;124m\"\u001b[39m}) \\\n\u001b[1;32m      4\u001b[0m                                                             \u001b[38;5;241m.\u001b[39mwithColumnRenamed(\u001b[38;5;124m\"\u001b[39m\u001b[38;5;124mavg(sentiment_score)\u001b[39m\u001b[38;5;124m\"\u001b[39m, \u001b[38;5;124m\"\u001b[39m\u001b[38;5;124mavg_sentiment\u001b[39m\u001b[38;5;124m\"\u001b[39m) \\\n\u001b[1;32m      5\u001b[0m                                                             \u001b[38;5;241m.\u001b[39morderBy(\u001b[38;5;124m\"\u001b[39m\u001b[38;5;124mreview_count\u001b[39m\u001b[38;5;124m\"\u001b[39m, ascending\u001b[38;5;241m=\u001b[39m\u001b[38;5;28;01mFalse\u001b[39;00m)\n\u001b[1;32m      7\u001b[0m \u001b[38;5;66;03m# Show the top 10 users by review count along with their average sentiment score\u001b[39;00m\n\u001b[0;32m----> 8\u001b[0m \u001b[43msentiment_by_review_count_df\u001b[49m\u001b[38;5;241;43m.\u001b[39;49m\u001b[43mshow\u001b[49m\u001b[43m(\u001b[49m\u001b[38;5;241;43m10\u001b[39;49m\u001b[43m)\u001b[49m\n",
      "File \u001b[0;32m~/.local/lib/python3.10/site-packages/pyspark/sql/dataframe.py:901\u001b[0m, in \u001b[0;36mDataFrame.show\u001b[0;34m(self, n, truncate, vertical)\u001b[0m\n\u001b[1;32m    895\u001b[0m     \u001b[38;5;28;01mraise\u001b[39;00m PySparkTypeError(\n\u001b[1;32m    896\u001b[0m         error_class\u001b[38;5;241m=\u001b[39m\u001b[38;5;124m\"\u001b[39m\u001b[38;5;124mNOT_BOOL\u001b[39m\u001b[38;5;124m\"\u001b[39m,\n\u001b[1;32m    897\u001b[0m         message_parameters\u001b[38;5;241m=\u001b[39m{\u001b[38;5;124m\"\u001b[39m\u001b[38;5;124marg_name\u001b[39m\u001b[38;5;124m\"\u001b[39m: \u001b[38;5;124m\"\u001b[39m\u001b[38;5;124mvertical\u001b[39m\u001b[38;5;124m\"\u001b[39m, \u001b[38;5;124m\"\u001b[39m\u001b[38;5;124marg_type\u001b[39m\u001b[38;5;124m\"\u001b[39m: \u001b[38;5;28mtype\u001b[39m(vertical)\u001b[38;5;241m.\u001b[39m\u001b[38;5;18m__name__\u001b[39m},\n\u001b[1;32m    898\u001b[0m     )\n\u001b[1;32m    900\u001b[0m \u001b[38;5;28;01mif\u001b[39;00m \u001b[38;5;28misinstance\u001b[39m(truncate, \u001b[38;5;28mbool\u001b[39m) \u001b[38;5;129;01mand\u001b[39;00m truncate:\n\u001b[0;32m--> 901\u001b[0m     \u001b[38;5;28mprint\u001b[39m(\u001b[38;5;28;43mself\u001b[39;49m\u001b[38;5;241;43m.\u001b[39;49m\u001b[43m_jdf\u001b[49m\u001b[38;5;241;43m.\u001b[39;49m\u001b[43mshowString\u001b[49m\u001b[43m(\u001b[49m\u001b[43mn\u001b[49m\u001b[43m,\u001b[49m\u001b[43m \u001b[49m\u001b[38;5;241;43m20\u001b[39;49m\u001b[43m,\u001b[49m\u001b[43m \u001b[49m\u001b[43mvertical\u001b[49m\u001b[43m)\u001b[49m)\n\u001b[1;32m    902\u001b[0m \u001b[38;5;28;01melse\u001b[39;00m:\n\u001b[1;32m    903\u001b[0m     \u001b[38;5;28;01mtry\u001b[39;00m:\n",
      "File \u001b[0;32m~/.local/lib/python3.10/site-packages/py4j/java_gateway.py:1321\u001b[0m, in \u001b[0;36mJavaMember.__call__\u001b[0;34m(self, *args)\u001b[0m\n\u001b[1;32m   1314\u001b[0m args_command, temp_args \u001b[38;5;241m=\u001b[39m \u001b[38;5;28mself\u001b[39m\u001b[38;5;241m.\u001b[39m_build_args(\u001b[38;5;241m*\u001b[39margs)\n\u001b[1;32m   1316\u001b[0m command \u001b[38;5;241m=\u001b[39m proto\u001b[38;5;241m.\u001b[39mCALL_COMMAND_NAME \u001b[38;5;241m+\u001b[39m\\\n\u001b[1;32m   1317\u001b[0m     \u001b[38;5;28mself\u001b[39m\u001b[38;5;241m.\u001b[39mcommand_header \u001b[38;5;241m+\u001b[39m\\\n\u001b[1;32m   1318\u001b[0m     args_command \u001b[38;5;241m+\u001b[39m\\\n\u001b[1;32m   1319\u001b[0m     proto\u001b[38;5;241m.\u001b[39mEND_COMMAND_PART\n\u001b[0;32m-> 1321\u001b[0m answer \u001b[38;5;241m=\u001b[39m \u001b[38;5;28;43mself\u001b[39;49m\u001b[38;5;241;43m.\u001b[39;49m\u001b[43mgateway_client\u001b[49m\u001b[38;5;241;43m.\u001b[39;49m\u001b[43msend_command\u001b[49m\u001b[43m(\u001b[49m\u001b[43mcommand\u001b[49m\u001b[43m)\u001b[49m\n\u001b[1;32m   1322\u001b[0m return_value \u001b[38;5;241m=\u001b[39m get_return_value(\n\u001b[1;32m   1323\u001b[0m     answer, \u001b[38;5;28mself\u001b[39m\u001b[38;5;241m.\u001b[39mgateway_client, \u001b[38;5;28mself\u001b[39m\u001b[38;5;241m.\u001b[39mtarget_id, \u001b[38;5;28mself\u001b[39m\u001b[38;5;241m.\u001b[39mname)\n\u001b[1;32m   1325\u001b[0m \u001b[38;5;28;01mfor\u001b[39;00m temp_arg \u001b[38;5;129;01min\u001b[39;00m temp_args:\n",
      "File \u001b[0;32m~/.local/lib/python3.10/site-packages/py4j/java_gateway.py:1038\u001b[0m, in \u001b[0;36mGatewayClient.send_command\u001b[0;34m(self, command, retry, binary)\u001b[0m\n\u001b[1;32m   1036\u001b[0m connection \u001b[38;5;241m=\u001b[39m \u001b[38;5;28mself\u001b[39m\u001b[38;5;241m.\u001b[39m_get_connection()\n\u001b[1;32m   1037\u001b[0m \u001b[38;5;28;01mtry\u001b[39;00m:\n\u001b[0;32m-> 1038\u001b[0m     response \u001b[38;5;241m=\u001b[39m \u001b[43mconnection\u001b[49m\u001b[38;5;241;43m.\u001b[39;49m\u001b[43msend_command\u001b[49m\u001b[43m(\u001b[49m\u001b[43mcommand\u001b[49m\u001b[43m)\u001b[49m\n\u001b[1;32m   1039\u001b[0m     \u001b[38;5;28;01mif\u001b[39;00m binary:\n\u001b[1;32m   1040\u001b[0m         \u001b[38;5;28;01mreturn\u001b[39;00m response, \u001b[38;5;28mself\u001b[39m\u001b[38;5;241m.\u001b[39m_create_connection_guard(connection)\n",
      "File \u001b[0;32m~/.local/lib/python3.10/site-packages/py4j/clientserver.py:511\u001b[0m, in \u001b[0;36mClientServerConnection.send_command\u001b[0;34m(self, command)\u001b[0m\n\u001b[1;32m    509\u001b[0m \u001b[38;5;28;01mtry\u001b[39;00m:\n\u001b[1;32m    510\u001b[0m     \u001b[38;5;28;01mwhile\u001b[39;00m \u001b[38;5;28;01mTrue\u001b[39;00m:\n\u001b[0;32m--> 511\u001b[0m         answer \u001b[38;5;241m=\u001b[39m smart_decode(\u001b[38;5;28;43mself\u001b[39;49m\u001b[38;5;241;43m.\u001b[39;49m\u001b[43mstream\u001b[49m\u001b[38;5;241;43m.\u001b[39;49m\u001b[43mreadline\u001b[49m\u001b[43m(\u001b[49m\u001b[43m)\u001b[49m[:\u001b[38;5;241m-\u001b[39m\u001b[38;5;241m1\u001b[39m])\n\u001b[1;32m    512\u001b[0m         logger\u001b[38;5;241m.\u001b[39mdebug(\u001b[38;5;124m\"\u001b[39m\u001b[38;5;124mAnswer received: \u001b[39m\u001b[38;5;132;01m{0}\u001b[39;00m\u001b[38;5;124m\"\u001b[39m\u001b[38;5;241m.\u001b[39mformat(answer))\n\u001b[1;32m    513\u001b[0m         \u001b[38;5;66;03m# Happens when a the other end is dead. There might be an empty\u001b[39;00m\n\u001b[1;32m    514\u001b[0m         \u001b[38;5;66;03m# answer before the socket raises an error.\u001b[39;00m\n",
      "File \u001b[0;32m/usr/lib/python3.10/socket.py:705\u001b[0m, in \u001b[0;36mSocketIO.readinto\u001b[0;34m(self, b)\u001b[0m\n\u001b[1;32m    703\u001b[0m \u001b[38;5;28;01mwhile\u001b[39;00m \u001b[38;5;28;01mTrue\u001b[39;00m:\n\u001b[1;32m    704\u001b[0m     \u001b[38;5;28;01mtry\u001b[39;00m:\n\u001b[0;32m--> 705\u001b[0m         \u001b[38;5;28;01mreturn\u001b[39;00m \u001b[38;5;28;43mself\u001b[39;49m\u001b[38;5;241;43m.\u001b[39;49m\u001b[43m_sock\u001b[49m\u001b[38;5;241;43m.\u001b[39;49m\u001b[43mrecv_into\u001b[49m\u001b[43m(\u001b[49m\u001b[43mb\u001b[49m\u001b[43m)\u001b[49m\n\u001b[1;32m    706\u001b[0m     \u001b[38;5;28;01mexcept\u001b[39;00m timeout:\n\u001b[1;32m    707\u001b[0m         \u001b[38;5;28mself\u001b[39m\u001b[38;5;241m.\u001b[39m_timeout_occurred \u001b[38;5;241m=\u001b[39m \u001b[38;5;28;01mTrue\u001b[39;00m\n",
      "\u001b[0;31mKeyboardInterrupt\u001b[0m: "
     ]
    }
   ],
   "source": [
    "# Analyze sentiment by user review count\n",
    "sentiment_by_review_count_df = user_reviews_with_sentiment_df.groupBy(\"user_id\", \"name\", \"review_count\") \\\n",
    "                                                            .agg({\"sentiment_score\": \"avg\"}) \\\n",
    "                                                            .withColumnRenamed(\"avg(sentiment_score)\", \"avg_sentiment\") \\\n",
    "                                                            .orderBy(\"review_count\", ascending=False)\n",
    "\n",
    "# Show the top 10 users by review count along with their average sentiment score\n",
    "sentiment_by_review_count_df.show(10)\n"
   ]
  },
  {
   "cell_type": "code",
   "execution_count": null,
   "id": "6ad80f9a-78bf-4600-8dc1-9ba76afae4d1",
   "metadata": {},
   "outputs": [],
   "source": []
  }
 ],
 "metadata": {
  "kernelspec": {
   "display_name": "Python 3 (ipykernel)",
   "language": "python",
   "name": "python3"
  },
  "language_info": {
   "codemirror_mode": {
    "name": "ipython",
    "version": 3
   },
   "file_extension": ".py",
   "mimetype": "text/x-python",
   "name": "python",
   "nbconvert_exporter": "python",
   "pygments_lexer": "ipython3",
   "version": "3.10.12"
  }
 },
 "nbformat": 4,
 "nbformat_minor": 5
}
